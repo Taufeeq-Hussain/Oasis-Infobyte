{
 "cells": [
  {
   "cell_type": "markdown",
   "id": "d9e76e9a",
   "metadata": {},
   "source": [
    "### Importing Basic Libraries"
   ]
  },
  {
   "cell_type": "code",
   "execution_count": 21,
   "id": "75230a99",
   "metadata": {},
   "outputs": [],
   "source": [
    "import numpy as np\n",
    "import pandas as pd\n",
    "import matplotlib\n",
    "import matplotlib.pyplot as plt"
   ]
  },
  {
   "cell_type": "markdown",
   "id": "c912ab8f",
   "metadata": {},
   "source": [
    "### Loading the dataset"
   ]
  },
  {
   "cell_type": "code",
   "execution_count": 22,
   "id": "b00fa3cb",
   "metadata": {},
   "outputs": [],
   "source": [
    "df = pd.read_csv(\"spam.csv\", encoding = 'latin-1')\n",
    "df.dropna(how=\"any\", inplace=True, axis=1)\n",
    "df.columns = ['v1', 'v2']"
   ]
  },
  {
   "cell_type": "code",
   "execution_count": 23,
   "id": "d5fe17af",
   "metadata": {},
   "outputs": [
    {
     "data": {
      "text/html": [
       "<div>\n",
       "<style scoped>\n",
       "    .dataframe tbody tr th:only-of-type {\n",
       "        vertical-align: middle;\n",
       "    }\n",
       "\n",
       "    .dataframe tbody tr th {\n",
       "        vertical-align: top;\n",
       "    }\n",
       "\n",
       "    .dataframe thead th {\n",
       "        text-align: right;\n",
       "    }\n",
       "</style>\n",
       "<table border=\"1\" class=\"dataframe\">\n",
       "  <thead>\n",
       "    <tr style=\"text-align: right;\">\n",
       "      <th></th>\n",
       "      <th>v1</th>\n",
       "      <th>v2</th>\n",
       "    </tr>\n",
       "  </thead>\n",
       "  <tbody>\n",
       "    <tr>\n",
       "      <th>0</th>\n",
       "      <td>ham</td>\n",
       "      <td>Go until jurong point, crazy.. Available only ...</td>\n",
       "    </tr>\n",
       "    <tr>\n",
       "      <th>1</th>\n",
       "      <td>ham</td>\n",
       "      <td>Ok lar... Joking wif u oni...</td>\n",
       "    </tr>\n",
       "    <tr>\n",
       "      <th>2</th>\n",
       "      <td>spam</td>\n",
       "      <td>Free entry in 2 a wkly comp to win FA Cup fina...</td>\n",
       "    </tr>\n",
       "    <tr>\n",
       "      <th>3</th>\n",
       "      <td>ham</td>\n",
       "      <td>U dun say so early hor... U c already then say...</td>\n",
       "    </tr>\n",
       "    <tr>\n",
       "      <th>4</th>\n",
       "      <td>ham</td>\n",
       "      <td>Nah I don't think he goes to usf, he lives aro...</td>\n",
       "    </tr>\n",
       "    <tr>\n",
       "      <th>5</th>\n",
       "      <td>spam</td>\n",
       "      <td>FreeMsg Hey there darling it's been 3 week's n...</td>\n",
       "    </tr>\n",
       "    <tr>\n",
       "      <th>6</th>\n",
       "      <td>ham</td>\n",
       "      <td>Even my brother is not like to speak with me. ...</td>\n",
       "    </tr>\n",
       "    <tr>\n",
       "      <th>7</th>\n",
       "      <td>ham</td>\n",
       "      <td>As per your request 'Melle Melle (Oru Minnamin...</td>\n",
       "    </tr>\n",
       "    <tr>\n",
       "      <th>8</th>\n",
       "      <td>spam</td>\n",
       "      <td>WINNER!! As a valued network customer you have...</td>\n",
       "    </tr>\n",
       "    <tr>\n",
       "      <th>9</th>\n",
       "      <td>spam</td>\n",
       "      <td>Had your mobile 11 months or more? U R entitle...</td>\n",
       "    </tr>\n",
       "  </tbody>\n",
       "</table>\n",
       "</div>"
      ],
      "text/plain": [
       "     v1                                                 v2\n",
       "0   ham  Go until jurong point, crazy.. Available only ...\n",
       "1   ham                      Ok lar... Joking wif u oni...\n",
       "2  spam  Free entry in 2 a wkly comp to win FA Cup fina...\n",
       "3   ham  U dun say so early hor... U c already then say...\n",
       "4   ham  Nah I don't think he goes to usf, he lives aro...\n",
       "5  spam  FreeMsg Hey there darling it's been 3 week's n...\n",
       "6   ham  Even my brother is not like to speak with me. ...\n",
       "7   ham  As per your request 'Melle Melle (Oru Minnamin...\n",
       "8  spam  WINNER!! As a valued network customer you have...\n",
       "9  spam  Had your mobile 11 months or more? U R entitle..."
      ]
     },
     "execution_count": 23,
     "metadata": {},
     "output_type": "execute_result"
    }
   ],
   "source": [
    "df.head(10)"
   ]
  },
  {
   "cell_type": "code",
   "execution_count": 24,
   "id": "7e261d35",
   "metadata": {},
   "outputs": [
    {
     "data": {
      "text/html": [
       "<div>\n",
       "<style scoped>\n",
       "    .dataframe tbody tr th:only-of-type {\n",
       "        vertical-align: middle;\n",
       "    }\n",
       "\n",
       "    .dataframe tbody tr th {\n",
       "        vertical-align: top;\n",
       "    }\n",
       "\n",
       "    .dataframe thead th {\n",
       "        text-align: right;\n",
       "    }\n",
       "</style>\n",
       "<table border=\"1\" class=\"dataframe\">\n",
       "  <thead>\n",
       "    <tr style=\"text-align: right;\">\n",
       "      <th></th>\n",
       "      <th>v1</th>\n",
       "      <th>v2</th>\n",
       "    </tr>\n",
       "  </thead>\n",
       "  <tbody>\n",
       "    <tr>\n",
       "      <th>5562</th>\n",
       "      <td>ham</td>\n",
       "      <td>Ok lor... Sony ericsson salesman... I ask shuh...</td>\n",
       "    </tr>\n",
       "    <tr>\n",
       "      <th>5563</th>\n",
       "      <td>ham</td>\n",
       "      <td>Ard 6 like dat lor.</td>\n",
       "    </tr>\n",
       "    <tr>\n",
       "      <th>5564</th>\n",
       "      <td>ham</td>\n",
       "      <td>Why don't you wait 'til at least wednesday to ...</td>\n",
       "    </tr>\n",
       "    <tr>\n",
       "      <th>5565</th>\n",
       "      <td>ham</td>\n",
       "      <td>Huh y lei...</td>\n",
       "    </tr>\n",
       "    <tr>\n",
       "      <th>5566</th>\n",
       "      <td>spam</td>\n",
       "      <td>REMINDER FROM O2: To get 2.50 pounds free call...</td>\n",
       "    </tr>\n",
       "    <tr>\n",
       "      <th>5567</th>\n",
       "      <td>spam</td>\n",
       "      <td>This is the 2nd time we have tried 2 contact u...</td>\n",
       "    </tr>\n",
       "    <tr>\n",
       "      <th>5568</th>\n",
       "      <td>ham</td>\n",
       "      <td>Will Ì_ b going to esplanade fr home?</td>\n",
       "    </tr>\n",
       "    <tr>\n",
       "      <th>5569</th>\n",
       "      <td>ham</td>\n",
       "      <td>Pity, * was in mood for that. So...any other s...</td>\n",
       "    </tr>\n",
       "    <tr>\n",
       "      <th>5570</th>\n",
       "      <td>ham</td>\n",
       "      <td>The guy did some bitching but I acted like i'd...</td>\n",
       "    </tr>\n",
       "    <tr>\n",
       "      <th>5571</th>\n",
       "      <td>ham</td>\n",
       "      <td>Rofl. Its true to its name</td>\n",
       "    </tr>\n",
       "  </tbody>\n",
       "</table>\n",
       "</div>"
      ],
      "text/plain": [
       "        v1                                                 v2\n",
       "5562   ham  Ok lor... Sony ericsson salesman... I ask shuh...\n",
       "5563   ham                                Ard 6 like dat lor.\n",
       "5564   ham  Why don't you wait 'til at least wednesday to ...\n",
       "5565   ham                                       Huh y lei...\n",
       "5566  spam  REMINDER FROM O2: To get 2.50 pounds free call...\n",
       "5567  spam  This is the 2nd time we have tried 2 contact u...\n",
       "5568   ham              Will Ì_ b going to esplanade fr home?\n",
       "5569   ham  Pity, * was in mood for that. So...any other s...\n",
       "5570   ham  The guy did some bitching but I acted like i'd...\n",
       "5571   ham                         Rofl. Its true to its name"
      ]
     },
     "execution_count": 24,
     "metadata": {},
     "output_type": "execute_result"
    }
   ],
   "source": [
    "df.tail(10)"
   ]
  },
  {
   "cell_type": "code",
   "execution_count": 25,
   "id": "af457dbc",
   "metadata": {},
   "outputs": [
    {
     "data": {
      "text/plain": [
       "ham     4825\n",
       "spam     747\n",
       "Name: v1, dtype: int64"
      ]
     },
     "execution_count": 25,
     "metadata": {},
     "output_type": "execute_result"
    }
   ],
   "source": [
    "df['v1'].value_counts()"
   ]
  },
  {
   "cell_type": "markdown",
   "id": "e7bcb05e",
   "metadata": {},
   "source": [
    "### Data Preprocessing"
   ]
  },
  {
   "cell_type": "code",
   "execution_count": 26,
   "id": "dfc2b795",
   "metadata": {},
   "outputs": [
    {
     "name": "stdout",
     "output_type": "stream",
     "text": [
      "[0 0 1 ... 0 0 0]\n"
     ]
    }
   ],
   "source": [
    "from sklearn.preprocessing import LabelEncoder\n",
    "le = LabelEncoder()\n",
    "y_data = df['v1'].values\n",
    "y_data = le.fit_transform(y_data)\n",
    "print(y_data)"
   ]
  },
  {
   "cell_type": "code",
   "execution_count": 27,
   "id": "65f767a5",
   "metadata": {},
   "outputs": [
    {
     "name": "stdout",
     "output_type": "stream",
     "text": [
      "0        ham\n",
      "1        ham\n",
      "2       spam\n",
      "3        ham\n",
      "4        ham\n",
      "        ... \n",
      "5567    spam\n",
      "5568     ham\n",
      "5569     ham\n",
      "5570     ham\n",
      "5571     ham\n",
      "Name: v1, Length: 5572, dtype: object\n"
     ]
    }
   ],
   "source": [
    "print(df['v1'])"
   ]
  },
  {
   "cell_type": "markdown",
   "id": "6b4788b9",
   "metadata": {},
   "source": [
    "### Removing Stopwords & Stemming"
   ]
  },
  {
   "cell_type": "code",
   "execution_count": 28,
   "id": "8974d28a",
   "metadata": {},
   "outputs": [],
   "source": [
    "import re\n",
    "from nltk.corpus import stopwords\n",
    "from nltk.stem import PorterStemmer\n",
    "\n",
    "# Load English stopwords and create a Porter stemmer\n",
    "sw = set(stopwords.words('english'))\n",
    "ps = PorterStemmer()\n",
    "\n",
    "# Define a function for text cleaning\n",
    "def cleantext(sample):\n",
    "    # Convert the text to lowercase\n",
    "    sample = sample.lower()\n",
    "\n",
    "    # Replace \"<br/ ><br/ >\" with a space\n",
    "    sample = sample.replace(\"<br/ ><br/ >\", \" \")\n",
    "\n",
    "    # Remove non-alphabetic characters and keep only letters\n",
    "    sample = re.sub(\"[^a-zA-Z]+\", \" \", sample)\n",
    "\n",
    "    # Tokenize the text into a list of words\n",
    "    sample = sample.split(\" \")\n",
    "\n",
    "    # Apply stemming and remove stopwords\n",
    "    sample = [ps.stem(s) for s in sample if s not in sw]\n",
    "\n",
    "    # Join the cleaned words into a string\n",
    "    sample = \" \".join(sample)\n",
    "\n",
    "    return sample"
   ]
  },
  {
   "cell_type": "code",
   "execution_count": 29,
   "id": "46ddfa11",
   "metadata": {},
   "outputs": [
    {
     "data": {
      "text/plain": [
       "'go jurong point crazi avail bugi n great world la e buffet cine got amor wat '"
      ]
     },
     "execution_count": 29,
     "metadata": {},
     "output_type": "execute_result"
    }
   ],
   "source": [
    "cleantext(df['v2'][0])\n"
   ]
  },
  {
   "cell_type": "code",
   "execution_count": 30,
   "id": "f730db46",
   "metadata": {},
   "outputs": [
    {
     "data": {
      "text/plain": [
       "'ok lar joke wif u oni '"
      ]
     },
     "execution_count": 30,
     "metadata": {},
     "output_type": "execute_result"
    }
   ],
   "source": [
    "cleantext(df['v2'][1])"
   ]
  },
  {
   "cell_type": "code",
   "execution_count": 31,
   "id": "c35b1e5e",
   "metadata": {},
   "outputs": [
    {
     "data": {
      "text/plain": [
       "\"Free entry in 2 a wkly comp to win FA Cup final tkts 21st May 2005. Text FA to 87121 to receive entry question(std txt rate)T&C's apply 08452810075over18's\""
      ]
     },
     "execution_count": 31,
     "metadata": {},
     "output_type": "execute_result"
    }
   ],
   "source": [
    "df['v2'][2]"
   ]
  },
  {
   "cell_type": "code",
   "execution_count": 32,
   "id": "0420921f",
   "metadata": {},
   "outputs": [
    {
     "data": {
      "text/plain": [
       "'U dun say so early hor... U c already then say...'"
      ]
     },
     "execution_count": 32,
     "metadata": {},
     "output_type": "execute_result"
    }
   ],
   "source": [
    "df['v2'][3]"
   ]
  },
  {
   "cell_type": "code",
   "execution_count": 33,
   "id": "82fc01b5",
   "metadata": {},
   "outputs": [],
   "source": [
    "df['cleanedmessage']=df['v2'].apply(cleantext)\n",
    "corpus=df['cleanedmessage'].values\n"
   ]
  },
  {
   "cell_type": "markdown",
   "id": "d0179dff",
   "metadata": {},
   "source": [
    "### Feature Extraction"
   ]
  },
  {
   "cell_type": "code",
   "execution_count": 34,
   "id": "8f6de1bd",
   "metadata": {},
   "outputs": [
    {
     "name": "stdout",
     "output_type": "stream",
     "text": [
      "(5572, 6221)\n",
      "  (0, 2148)\t1\n",
      "  (0, 2794)\t1\n",
      "  (0, 4046)\t1\n",
      "  (0, 1162)\t1\n",
      "  (0, 377)\t1\n",
      "  (0, 732)\t1\n",
      "  (0, 2222)\t1\n",
      "  (0, 6060)\t1\n",
      "  (0, 2898)\t1\n",
      "  (0, 730)\t1\n",
      "  (0, 957)\t1\n",
      "  (0, 2185)\t1\n",
      "  (0, 188)\t1\n",
      "  (0, 5886)\t1\n"
     ]
    }
   ],
   "source": [
    "from sklearn.feature_extraction.text import CountVectorizer, TfidfTransformer\n",
    "\n",
    "# Create a CountVectorizer with specified parameters\n",
    "cv = CountVectorizer(max_df=0.5, max_features=50000)\n",
    "\n",
    "# Fit and transform the corpus using CountVectorizer\n",
    "x_data = cv.fit_transform(corpus)\n",
    "\n",
    "# Print the shape of the transformed data\n",
    "print(x_data.shape)  # Output: (5572, 6221)\n",
    "\n",
    "# Print the first row of the transformed data (sparse matrix format)\n",
    "print(x_data[0])"
   ]
  },
  {
   "cell_type": "code",
   "execution_count": 35,
   "id": "cb2bb48c",
   "metadata": {},
   "outputs": [
    {
     "name": "stdout",
     "output_type": "stream",
     "text": [
      "  (0, 6060)\t0.23615475543085504\n",
      "  (0, 5886)\t0.19459721085856557\n",
      "  (0, 4046)\t0.24054119706179242\n",
      "  (0, 2898)\t0.2850448490727193\n",
      "  (0, 2794)\t0.352275555327129\n",
      "  (0, 2222)\t0.19459721085856557\n",
      "  (0, 2185)\t0.16514812015268623\n",
      "  (0, 2148)\t0.14084052842905104\n",
      "  (0, 1162)\t0.2728131680559814\n",
      "  (0, 957)\t0.29760381268143565\n",
      "  (0, 732)\t0.29760381268143565\n",
      "  (0, 730)\t0.3362850956787249\n",
      "  (0, 377)\t0.2634906267537017\n",
      "  (0, 188)\t0.352275555327129\n"
     ]
    }
   ],
   "source": [
    "# Create a TfidfTransformer\n",
    "tfidf = TfidfTransformer()\n",
    "\n",
    "# Transform the count matrix (x_data) to TF-IDF representation\n",
    "x_data_tfidf = tfidf.fit_transform(x_data)\n",
    "\n",
    "# Print the first row of the TF-IDF transformed data\n",
    "print(x_data_tfidf[0])"
   ]
  },
  {
   "cell_type": "code",
   "execution_count": 36,
   "id": "8cf08a42",
   "metadata": {},
   "outputs": [
    {
     "data": {
      "text/plain": [
       "(5572, 6221)"
      ]
     },
     "execution_count": 36,
     "metadata": {},
     "output_type": "execute_result"
    }
   ],
   "source": [
    "x_data.shape\n"
   ]
  },
  {
   "cell_type": "code",
   "execution_count": 37,
   "id": "7ca3eaeb",
   "metadata": {},
   "outputs": [
    {
     "data": {
      "text/plain": [
       "(5572,)"
      ]
     },
     "execution_count": 37,
     "metadata": {},
     "output_type": "execute_result"
    }
   ],
   "source": [
    "y_data.shape"
   ]
  },
  {
   "cell_type": "markdown",
   "id": "c662548a",
   "metadata": {},
   "source": [
    "### Splitting Dataset\n"
   ]
  },
  {
   "cell_type": "code",
   "execution_count": 38,
   "id": "1aabe943",
   "metadata": {},
   "outputs": [],
   "source": [
    "from sklearn.model_selection import train_test_split\n",
    "import itertools\n",
    "\n",
    "# Split the data into training and testing sets\n",
    "X_train, X_test, y_train, y_test = train_test_split(x_data, y_data, test_size=0.3, random_state=42)\n",
    "\n",
    "# Define a function to plot confusion matrix\n",
    "def plot_confusion_matrix(cm, classes, title='Confusion matrix', normalize=False, cmap=plt.cm.Blues):\n",
    "    \"\"\"\n",
    "    This function plots the confusion matrix.\n",
    "\n",
    "    Parameters:\n",
    "    - cm: Confusion matrix\n",
    "    - classes: List of class names\n",
    "    - title: Title of the plot\n",
    "    - normalize: If True, normalize the confusion matrix\n",
    "    - cmap: Colormap for the plot\n",
    "    \"\"\"\n",
    "    # Check if normalization is requested\n",
    "    if normalize:\n",
    "        cm = cm.astype('float') / cm.sum(axis=1)[:, np.newaxis]\n",
    "        print(\"Normalized confusion matrix\")\n",
    "    else:\n",
    "        print('Confusion matrix, without normalization')\n",
    "\n",
    "    print(cm)\n",
    "\n",
    "    # Plot the confusion matrix\n",
    "    plt.imshow(cm, interpolation='nearest', cmap=cmap)\n",
    "    plt.title(title)\n",
    "    plt.colorbar()\n",
    "    \n",
    "    # Set tick marks and labels\n",
    "    tick_marks = np.arange(len(classes))\n",
    "    plt.xticks(tick_marks, classes, rotation=45)\n",
    "    plt.yticks(tick_marks, classes)\n",
    "\n",
    "    # Format for text in cells\n",
    "    fmt = '.2f' if normalize else 'd'\n",
    "    \n",
    "    # Add text annotations to cells\n",
    "    thresh = cm.max() / 2.\n",
    "    for i, j in itertools.product(range(cm.shape[0]), range(cm.shape[1])):\n",
    "        plt.text(j, i, format(cm[i, j], fmt),\n",
    "                 horizontalalignment=\"center\",\n",
    "                 verticalalignment=\"center\",\n",
    "                 color=\"white\" if cm[i, j] > thresh else \"black\")\n",
    "\n",
    "    # Label axes\n",
    "    plt.ylabel('True label')\n",
    "    plt.xlabel('Predicted label')\n",
    "    plt.tight_layout()"
   ]
  },
  {
   "cell_type": "code",
   "execution_count": 39,
   "id": "17df7570",
   "metadata": {},
   "outputs": [],
   "source": [
    "def perf_measure(y_actual, y_hat):\n",
    "    # Convert input lists to NumPy arrays for better array operations\n",
    "    y_actual = np.array(y_actual)\n",
    "    y_hat = np.array(y_hat)\n",
    "    \n",
    "    # Initialize variables for True Positive, False Positive, True Negative, and False Negative\n",
    "    TP = 0  # True Positive\n",
    "    FP = 0  # False Positive\n",
    "    TN = 0  # True Negative\n",
    "    FN = 0  # False Negative\n",
    "\n",
    "    # Iterate through each prediction and actual label\n",
    "    for i in range(len(y_hat)): \n",
    "        # True Positive: Actual is positive, and predicted is also positive\n",
    "        if y_actual[i] == y_hat[i] and y_hat[i] == 1:\n",
    "            TP += 1\n",
    "        # False Positive: Actual is negative, but predicted is positive\n",
    "        if y_hat[i] == 1 and y_actual[i] != y_hat[i]:\n",
    "            FP += 1\n",
    "        # True Negative: Actual is negative, and predicted is also negative\n",
    "        if y_actual[i] == y_hat[i] == 0:\n",
    "            TN += 1\n",
    "        # False Negative: Actual is positive, but predicted is negative\n",
    "        if y_hat[i] == 0 and y_actual[i] != y_hat[i]:\n",
    "            FN += 1\n",
    "\n",
    "    # Return the counts of True Positive, False Positive, True Negative, and False Negative\n",
    "    return TP, FP, TN, FN\n"
   ]
  },
  {
   "cell_type": "markdown",
   "id": "8a1a5faa",
   "metadata": {},
   "source": [
    "### Importing necessary Classifiers"
   ]
  },
  {
   "cell_type": "code",
   "execution_count": 64,
   "id": "d23353fc",
   "metadata": {},
   "outputs": [],
   "source": [
    "from sklearn.metrics import confusion_matrix\n",
    "from sklearn.linear_model import LogisticRegression\n",
    "from sklearn.metrics import classification_report\n",
    "from sklearn.naive_bayes import MultinomialNB\n",
    "from sklearn import svm\n",
    "from sklearn.tree import DecisionTreeClassifier\n",
    "from sklearn.ensemble import RandomForestClassifier\n",
    "\n",
    "from sklearn.metrics import accuracy_score\n",
    "from sklearn.metrics import precision_score\n",
    "from sklearn.metrics import f1_score\n",
    "from sklearn.metrics import recall_score"
   ]
  },
  {
   "cell_type": "markdown",
   "id": "cd4d748f",
   "metadata": {},
   "source": [
    "## Logistics Regression\n"
   ]
  },
  {
   "cell_type": "code",
   "execution_count": 41,
   "id": "116977ae",
   "metadata": {},
   "outputs": [
    {
     "data": {
      "text/plain": [
       "0.979066985645933"
      ]
     },
     "execution_count": 41,
     "metadata": {},
     "output_type": "execute_result"
    }
   ],
   "source": [
    "clf_lr= LogisticRegression(solver='liblinear', penalty='l1')\n",
    "clf_lr.fit(X_train, y_train)\n",
    "pred_lr=clf_lr.predict(X_test)\n",
    "clf_lr.score(X_test,y_test)\n"
   ]
  },
  {
   "cell_type": "code",
   "execution_count": 42,
   "id": "89662f3e",
   "metadata": {},
   "outputs": [
    {
     "name": "stdout",
     "output_type": "stream",
     "text": [
      "              precision    recall  f1-score   support\n",
      "\n",
      "           0       0.98      1.00      0.99      1453\n",
      "           1       0.99      0.85      0.91       219\n",
      "\n",
      "    accuracy                           0.98      1672\n",
      "   macro avg       0.98      0.92      0.95      1672\n",
      "weighted avg       0.98      0.98      0.98      1672\n",
      "\n"
     ]
    }
   ],
   "source": [
    "print(classification_report(y_test,pred_lr))"
   ]
  },
  {
   "cell_type": "code",
   "execution_count": 43,
   "id": "5784a024",
   "metadata": {},
   "outputs": [
    {
     "name": "stdout",
     "output_type": "stream",
     "text": [
      "Confusion matrix, without normalization\n",
      "[[1451    2]\n",
      " [  33  186]]\n"
     ]
    },
    {
     "data": {
      "image/png": "[encoded data removed]",
      "text/plain": [
       "<Figure size 640x480 with 2 Axes>"
      ]
     },
     "metadata": {},
     "output_type": "display_data"
    }
   ],
   "source": [
    "cnf_matrix_lr=confusion_matrix(y_test,pred_lr)\n",
    "plot_confusion_matrix(cnf_matrix_lr,[0,1],normalize=False, cmap=\"Reds\",title=\"Confusion Matrix\")"
   ]
  },
  {
   "cell_type": "code",
   "execution_count": 44,
   "id": "2cc0e2db",
   "metadata": {},
   "outputs": [
    {
     "name": "stdout",
     "output_type": "stream",
     "text": [
      "Normalized confusion matrix\n",
      "[[0.99862354 0.00137646]\n",
      " [0.15068493 0.84931507]]\n"
     ]
    },
    {
     "data": {
      "image/png": "[encoded data removed]",
      "text/plain": [
       "<Figure size 640x480 with 2 Axes>"
      ]
     },
     "metadata": {},
     "output_type": "display_data"
    }
   ],
   "source": [
    "cnf_matrix_lr=confusion_matrix(y_test,pred_lr)\n",
    "plot_confusion_matrix(cnf_matrix_lr,[0,1],normalize=True,cmap=\"Reds\",title=\"Confusion Matrix\")"
   ]
  },
  {
   "cell_type": "markdown",
   "id": "9ccda3ca",
   "metadata": {},
   "source": [
    "## Multinomial Naive Bayes\n"
   ]
  },
  {
   "cell_type": "code",
   "execution_count": 45,
   "id": "0b6c3bb5",
   "metadata": {},
   "outputs": [
    {
     "name": "stdout",
     "output_type": "stream",
     "text": [
      "Accuracy :  0.9712918660287081\n"
     ]
    }
   ],
   "source": [
    "clf_mnb=MultinomialNB(alpha = 0.3) \n",
    "\n",
    "clf_mnb.fit(X_train,y_train)\n",
    "pred_mnb=clf_mnb.predict(X_test)\n",
    "acc_mnb=clf_mnb.score(X_test,y_test)\n",
    "\n",
    "print(\"Accuracy : \",acc_mnb)"
   ]
  },
  {
   "cell_type": "code",
   "execution_count": 46,
   "id": "b138945d",
   "metadata": {},
   "outputs": [
    {
     "name": "stdout",
     "output_type": "stream",
     "text": [
      "              precision    recall  f1-score   support\n",
      "\n",
      "           0       0.99      0.98      0.98      1453\n",
      "           1       0.85      0.94      0.90       219\n",
      "\n",
      "    accuracy                           0.97      1672\n",
      "   macro avg       0.92      0.96      0.94      1672\n",
      "weighted avg       0.97      0.97      0.97      1672\n",
      "\n"
     ]
    }
   ],
   "source": [
    "print(classification_report(y_test,pred_mnb))"
   ]
  },
  {
   "cell_type": "code",
   "execution_count": 47,
   "id": "37775fbc",
   "metadata": {},
   "outputs": [
    {
     "name": "stdout",
     "output_type": "stream",
     "text": [
      "Confusion matrix, without normalization\n",
      "[[1418   35]\n",
      " [  13  206]]\n"
     ]
    },
    {
     "data": {
      "image/png": "[encoded data removed]",
      "text/plain": [
       "<Figure size 640x480 with 2 Axes>"
      ]
     },
     "metadata": {},
     "output_type": "display_data"
    }
   ],
   "source": [
    "cnf_matrix_mnb=confusion_matrix(y_test,pred_mnb)\n",
    "plot_confusion_matrix(cnf_matrix_mnb,[0,1],normalize=False, cmap=\"Blues\",title=\"Confusion Matrix\")"
   ]
  },
  {
   "cell_type": "code",
   "execution_count": 48,
   "id": "e30c78a9",
   "metadata": {},
   "outputs": [
    {
     "name": "stdout",
     "output_type": "stream",
     "text": [
      "Normalized confusion matrix\n",
      "[[0.97591191 0.02408809]\n",
      " [0.05936073 0.94063927]]\n"
     ]
    },
    {
     "data": {
      "image/png": "[encoded data removed]",
      "text/plain": [
       "<Figure size 640x480 with 2 Axes>"
      ]
     },
     "metadata": {},
     "output_type": "display_data"
    }
   ],
   "source": [
    "cnf_matrix_mnb=confusion_matrix(y_test,pred_mnb)\n",
    "plot_confusion_matrix(cnf_matrix_mnb,[0,1],normalize=True,cmap='Blues',title=\"Confusion Matrix\")"
   ]
  },
  {
   "cell_type": "markdown",
   "id": "76ad9f2e",
   "metadata": {},
   "source": [
    "### Support Vector Machines"
   ]
  },
  {
   "cell_type": "code",
   "execution_count": 49,
   "id": "afedcbc1",
   "metadata": {},
   "outputs": [
    {
     "name": "stdout",
     "output_type": "stream",
     "text": [
      "Accuracy :  0.8809808612440191\n"
     ]
    }
   ],
   "source": [
    "clf_svm = svm.SVC(kernel='sigmoid', gamma=2.0, probability=True)\n",
    "\n",
    "clf_svm.fit(X_train,y_train)\n",
    "pred_svm=clf_svm.predict(X_test)\n",
    "acc_svm=clf_svm.score(X_test,y_test)\n",
    "\n",
    "print(\"Accuracy : \",acc_svm)"
   ]
  },
  {
   "cell_type": "code",
   "execution_count": 50,
   "id": "41fbd8bf",
   "metadata": {},
   "outputs": [
    {
     "name": "stdout",
     "output_type": "stream",
     "text": [
      "              precision    recall  f1-score   support\n",
      "\n",
      "           0       0.93      0.93      0.93      1453\n",
      "           1       0.55      0.53      0.54       219\n",
      "\n",
      "    accuracy                           0.88      1672\n",
      "   macro avg       0.74      0.73      0.73      1672\n",
      "weighted avg       0.88      0.88      0.88      1672\n",
      "\n"
     ]
    }
   ],
   "source": [
    "print(classification_report(y_test,pred_svm))"
   ]
  },
  {
   "cell_type": "code",
   "execution_count": 51,
   "id": "6718f2a2",
   "metadata": {},
   "outputs": [
    {
     "name": "stdout",
     "output_type": "stream",
     "text": [
      "Confusion matrix, without normalization\n",
      "[[1358   95]\n",
      " [ 104  115]]\n"
     ]
    },
    {
     "data": {
      "image/png": "[encoded data removed]",
      "text/plain": [
       "<Figure size 640x480 with 2 Axes>"
      ]
     },
     "metadata": {},
     "output_type": "display_data"
    }
   ],
   "source": [
    "cnf_matrix_svm=confusion_matrix(y_test,pred_svm)\n",
    "plot_confusion_matrix(cnf_matrix_svm,[0,1],normalize=False,cmap=\"Greens\",title=\"Confusion Matrix\")"
   ]
  },
  {
   "cell_type": "code",
   "execution_count": 52,
   "id": "ad973a07",
   "metadata": {},
   "outputs": [
    {
     "name": "stdout",
     "output_type": "stream",
     "text": [
      "Normalized confusion matrix\n",
      "[[0.93461803 0.06538197]\n",
      " [0.47488584 0.52511416]]\n"
     ]
    },
    {
     "data": {
      "image/png": "[encoded data removed]",
      "text/plain": [
       "<Figure size 640x480 with 2 Axes>"
      ]
     },
     "metadata": {},
     "output_type": "display_data"
    }
   ],
   "source": [
    "cnf_matrix_svm=confusion_matrix(y_test,pred_svm)\n",
    "plot_confusion_matrix(cnf_matrix_svm,[0,1],normalize=True,cmap=\"Greens\",title=\"Confusion Matrix\")"
   ]
  },
  {
   "cell_type": "markdown",
   "id": "46c70c3b",
   "metadata": {},
   "source": [
    "## Spam Classification"
   ]
  },
  {
   "cell_type": "code",
   "execution_count": 53,
   "id": "2f21a11f",
   "metadata": {},
   "outputs": [],
   "source": [
    "classifiers=[]\n",
    "\n",
    "classifiers.append(('LogisticRegression',clf_lr))\n",
    "classifiers.append(('MNB',clf_mnb))\n",
    "classifiers.append(('SVM',clf_svm))"
   ]
  },
  {
   "cell_type": "code",
   "execution_count": 61,
   "id": "daf448d5",
   "metadata": {},
   "outputs": [],
   "source": [
    "result = []  # List to store performance metrics\n",
    "cnf_matrix_parameters = []  # List to store confusion matrix parameters\n",
    "\n",
    "# Iterate through classifiers\n",
    "for i, v in classifiers:\n",
    "    # Make predictions using the current classifier\n",
    "    pred = v.predict(X_test)\n",
    "    \n",
    "    # Calculate accuracy, precision, recall, and F1-score\n",
    "    acc = accuracy_score(y_test, pred)\n",
    "    precision = precision_score(y_test, pred)\n",
    "    recall = recall_score(y_test, pred)\n",
    "    f_measure = f1_score(y_test, pred)\n",
    "    \n",
    "    # Append performance metrics to the result list\n",
    "    result.append((i, acc, precision, recall, f_measure))\n",
    "    \n",
    "    # Compute True Positive, False Positive, True Negative, and False Negative\n",
    "    TP, FP, TN, FN = perf_measure(y_test, pred)\n",
    "    \n",
    "    # Append confusion matrix parameters to the cnf_matrix_parameters list\n",
    "    cnf_matrix_parameters.append((i, TP, FP, TN, FN))\n"
   ]
  },
  {
   "cell_type": "code",
   "execution_count": 59,
   "id": "4702033c",
   "metadata": {},
   "outputs": [
    {
     "name": "stdout",
     "output_type": "stream",
     "text": [
      "            Algorithm  Accuracy  Precision    Recall  F-measure\n",
      "0  LogisticRegression  0.979067   0.989362  0.849315   0.914005\n",
      "1                 MNB  0.971292   0.854772  0.940639   0.895652\n",
      "2                 SVM  0.880981   0.547619  0.525114   0.536131\n"
     ]
    }
   ],
   "source": [
    "column_names=['Algorithm','Accuracy','Precision','Recall','F-measure']\n",
    "df1=pd.DataFrame(result,columns=column_names)\n",
    "print(df1)"
   ]
  },
  {
   "cell_type": "code",
   "execution_count": 71,
   "id": "f49967d0",
   "metadata": {},
   "outputs": [
    {
     "name": "stdout",
     "output_type": "stream",
     "text": [
      "            Algorithm  True_Pos  False_Pos  True_Neg  False_Neg\n",
      "0  LogisticRegression       186          2      1451         33\n",
      "1                 MNB       206         35      1418         13\n",
      "2                 SVM       115         95      1358        104\n"
     ]
    }
   ],
   "source": [
    "column_names=['Algorithm','True_Pos','False_Pos','True_Neg','False_Neg']\n",
    "df2=pd.DataFrame(cnf_matrix_parameters,columns=column_names)\n",
    "print(df2)"
   ]
  },
  {
   "cell_type": "code",
   "execution_count": null,
   "id": "4da4bc16",
   "metadata": {},
   "outputs": [],
   "source": []
  }
 ],
 "metadata": {
  "kernelspec": {
   "display_name": "Python 3 (ipykernel)",
   "language": "python",
   "name": "python3"
  },
  "language_info": {
   "codemirror_mode": {
    "name": "ipython",
    "version": 3
   },
   "file_extension": ".py",
   "mimetype": "text/x-python",
   "name": "python",
   "nbconvert_exporter": "python",
   "pygments_lexer": "ipython3",
   "version": "3.9.13"
  }
 },
 "nbformat": 4,
 "nbformat_minor": 5
}
